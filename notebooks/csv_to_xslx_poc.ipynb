{
 "cells": [
  {
   "cell_type": "code",
   "execution_count": 1,
   "id": "2fa11416",
   "metadata": {},
   "outputs": [],
   "source": [
    "import pandas as pd\n",
    "import numpy as np"
   ]
  },
  {
   "cell_type": "code",
   "execution_count": 2,
   "id": "77498c91",
   "metadata": {},
   "outputs": [],
   "source": [
    "def replace_kvacice(string):\n",
    "    replace_dict = {\n",
    "        'š': 's',\n",
    "        'č': 'c',\n",
    "        'ć': 'c',\n",
    "        'ž': 'z'\n",
    "    }\n",
    "    for kv, non_kv in replace_dict.items():\n",
    "        string = string.replace(kv, non_kv)\n",
    "    return string\n",
    "\n",
    "strip_spaces = np.vectorize(lambda x: x.replace(' ', ''))\n",
    "strip_kvacice = np.vectorize(replace_kvacice)\n",
    "        \n",
    "class FormResponse:\n",
    "    def __init__(self, response: pd.DataFrame):\n",
    "        self.response = response\n",
    "\n",
    "    @classmethod\n",
    "    def from_google_forms_csv(self, csv_path):\n",
    "        \"\"\"\n",
    "        Inits a FormResponse object from a Google Forms csv export\n",
    "        :param csv_path: path to the Google Forms csv export \n",
    "        \"\"\"\n",
    "        response_df = pd.read_csv(csv_path, index_col=False)\n",
    "        return FormResponse(response_df)\n",
    "\n",
    "    def get_meeting_data(self, \n",
    "                         scholar_column_name,\n",
    "                         mentor_column_name,\n",
    "                         meeting_column_name\n",
    "                        ):\n",
    "        \n",
    "        response_df = self.response\n",
    "        mapper = {meeting_column_name: 'meeting' }\n",
    "\n",
    "        response_df['id'] = response_df[scholar_column_name] + response_df[mentor_column_name]\n",
    "        response_df['id'] = strip_spaces(response_df['id'])\n",
    "        response_df['id'] = strip_kvacice(response_df['id'])\n",
    "        meeting_df = response_df[['id', meeting_column_name]].rename(columns=mapper).set_index('id')\n",
    "        \n",
    "\n",
    "        meeting_df.replace(np.nan, True, regex=True, inplace=True)\n",
    "        meeting_df.replace(r'(.|\\s)*\\S(.|\\s)*', False, regex=True, inplace=True)\n",
    "        meeting_dict = meeting_df.to_dict()['meeting']\n",
    "        return meeting_dict\n",
    "        "
   ]
  },
  {
   "cell_type": "code",
   "execution_count": 3,
   "id": "f8291987",
   "metadata": {},
   "outputs": [],
   "source": [
    "class ReportSheet:\n",
    "    \n",
    "    def __init__(self, sheet):\n",
    "        self.sheet = sheet\n",
    "        \n",
    "    @classmethod\n",
    "    def from_google_sheets_csv(self, csv_path):\n",
    "        sheet_df = pd.read_csv(csv_path)\n",
    "        return ReportSheet(sheet_df)\n",
    "    \n",
    "    def meeting_report(self, meeting_dict):\n",
    "        sheet = self.sheet\n",
    "        sheet['id'] = self.sheet['Mentee'] + self.sheet['Mentor']\n",
    "        sheet['id'] = strip_spaces(sheet['id'])\n",
    "        sheet['id'] = strip_kvacice(sheet['id'])\n",
    "        \n",
    "        meet_column = []\n",
    "        for meet_id in sheet.id:\n",
    "            meeting = meeting_dict.get(meet_id)\n",
    "            if meeting is None:\n",
    "                meet_column.append('Unknown (report is missing)')\n",
    "            elif meeting:\n",
    "                meet_column.append('Active')\n",
    "            else:\n",
    "                meet_column.append('Inactive')\n",
    "        sheet['Status - March 2022'] = meet_column\n",
    "        sheet.drop(columns=['id'], inplace=True)\n",
    "        return sheet\n",
    "    \n",
    "    def to_xlsx(self, xlsx_path):\n",
    "        self.sheet.to_excel(xlsx_path, index=False, sheet_name='Tracking Juniors')"
   ]
  },
  {
   "cell_type": "code",
   "execution_count": 5,
   "id": "d6ee8d96",
   "metadata": {},
   "outputs": [
    {
     "name": "stdout",
     "output_type": "stream",
     "text": [
      "Done!\n"
     ]
    }
   ],
   "source": [
    "response = FormResponse.from_google_forms_csv(csv_path='../data/third_mentoring_report_junior_scholars.csv')\n",
    "meeting_dict = response.get_meeting_data(scholar_column_name = 'First and Last Name',\n",
    "                                         mentor_column_name = 'Mentor\\'s First and Last ',\n",
    "                                         meeting_column_name = 'If your answer in the previous question was less then or equal to 5, could you please shortly explain?'\n",
    "                                         )\n",
    "sheet = ReportSheet.from_google_sheets_csv('../data/sheet_junior_scholars.csv')\n",
    "sheet.meeting_report(meeting_dict)\n",
    "sheet.to_xlsx('../data/final_sheet.xlsx')\n",
    "print('Done!')"
   ]
  },
  {
   "cell_type": "code",
   "execution_count": null,
   "id": "6d975af7",
   "metadata": {},
   "outputs": [],
   "source": []
  }
 ],
 "metadata": {
  "kernelspec": {
   "display_name": "Python 3 (ipykernel)",
   "language": "python",
   "name": "python3"
  },
  "language_info": {
   "codemirror_mode": {
    "name": "ipython",
    "version": 3
   },
   "file_extension": ".py",
   "mimetype": "text/x-python",
   "name": "python",
   "nbconvert_exporter": "python",
   "pygments_lexer": "ipython3",
   "version": "3.8.10"
  }
 },
 "nbformat": 4,
 "nbformat_minor": 5
}
